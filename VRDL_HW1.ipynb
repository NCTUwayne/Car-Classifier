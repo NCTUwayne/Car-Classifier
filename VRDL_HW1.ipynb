{
 "cells": [
  {
   "cell_type": "code",
   "execution_count": 1,
   "metadata": {},
   "outputs": [
    {
     "name": "stdout",
     "output_type": "stream",
     "text": [
      "Package                       Version\r\n",
      "----------------------------- ----------------------\r\n",
      "absl-py                       0.7.1\r\n",
      "antialiased-cnns              0.3\r\n",
      "apturl                        0.5.2\r\n",
      "astor                         0.8.0\r\n",
      "backcall                      0.2.0\r\n",
      "beautifulsoup4                4.4.1\r\n",
      "blinker                       1.3\r\n",
      "Brlapi                        0.6.4\r\n",
      "catfish                       1.4.2\r\n",
      "chardet                       2.3.0\r\n",
      "checkbox-support              0.22\r\n",
      "command-not-found             0.3\r\n",
      "cryptography                  1.2.3\r\n",
      "cycler                        0.10.0\r\n",
      "dataclasses                   0.7\r\n",
      "decorator                     4.4.0\r\n",
      "defer                         1.0.6\r\n",
      "efficientnet                  1.0.0b3\r\n",
      "feedparser                    5.1.3\r\n",
      "future                        0.18.2\r\n",
      "gast                          0.2.2\r\n",
      "google-pasta                  0.1.7\r\n",
      "grpcio                        1.22.0\r\n",
      "guacamole                     0.9.2\r\n",
      "h5py                          2.9.0\r\n",
      "httplib2                      0.9.1\r\n",
      "idna                          2.0\r\n",
      "imageio                       2.5.0\r\n",
      "ipykernel                     5.3.4\r\n",
      "ipython                       7.16.1\r\n",
      "ipython-genutils              0.2.0\r\n",
      "jedi                          0.17.2\r\n",
      "Jinja2                        2.8\r\n",
      "joblib                        0.13.2\r\n",
      "jupyter-client                6.1.7\r\n",
      "jupyter-core                  4.6.3\r\n",
      "Keras                         2.2.4\r\n",
      "Keras-Applications            1.0.8\r\n",
      "Keras-Preprocessing           1.1.0\r\n",
      "kiwisolver                    1.1.0\r\n",
      "language-selector             0.1\r\n",
      "lightdm-gtk-greeter-settings  1.2.1\r\n",
      "louis                         2.6.4\r\n",
      "lxml                          3.5.0\r\n",
      "Mako                          1.0.3\r\n",
      "Markdown                      3.1.1\r\n",
      "MarkupSafe                    0.23\r\n",
      "matplotlib                    3.1.1\r\n",
      "menulibre                     2.1.3\r\n",
      "mugshot                       0.3.1\r\n",
      "natsort                       7.0.1\r\n",
      "networkx                      2.3\r\n",
      "numpy                         1.17.0\r\n",
      "oauthlib                      1.0.3\r\n",
      "onboard                       1.2.0\r\n",
      "padme                         1.1.1\r\n",
      "pandas                        0.25.0\r\n",
      "parso                         0.7.1\r\n",
      "pexpect                       4.0.1\r\n",
      "pickleshare                   0.7.5\r\n",
      "Pillow                        6.1.0\r\n",
      "pip                           20.2.4\r\n",
      "plainbox                      0.25\r\n",
      "prompt-toolkit                3.0.8\r\n",
      "protobuf                      3.9.1\r\n",
      "psutil                        3.4.2\r\n",
      "ptyprocess                    0.5\r\n",
      "pyasn1                        0.1.9\r\n",
      "pycups                        1.9.73\r\n",
      "pycurl                        7.43.0\r\n",
      "Pygments                      2.7.2\r\n",
      "pygobject                     3.20.0\r\n",
      "PyJWT                         1.3.0\r\n",
      "pyparsing                     2.4.2\r\n",
      "python-apt                    1.1.0b1+ubuntu0.16.4.9\r\n",
      "python-dateutil               2.8.0\r\n",
      "python-debian                 0.1.27\r\n",
      "python-systemd                231\r\n",
      "pytz                          2019.2\r\n",
      "PyWavelets                    1.0.3\r\n",
      "pyxdg                         0.25\r\n",
      "PyYAML                        5.1.2\r\n",
      "pyzmq                         19.0.2\r\n",
      "reportlab                     3.3.0\r\n",
      "requests                      2.9.1\r\n",
      "scikit-image                  0.15.0\r\n",
      "scikit-learn                  0.21.3\r\n",
      "scipy                         1.3.1\r\n",
      "screen-resolution-extra       0.0.0\r\n",
      "sessioninstaller              0.0.0\r\n",
      "setuptools                    41.1.0\r\n",
      "six                           1.10.0\r\n",
      "sklearn                       0.0\r\n",
      "ssh-import-id                 5.5\r\n",
      "system-service                0.3\r\n",
      "tensorboard                   1.14.0\r\n",
      "tensorflow-estimator          1.14.0\r\n",
      "tensorflow-gpu                1.14.0\r\n",
      "termcolor                     1.1.0\r\n",
      "torch                         1.7.0\r\n",
      "torchvision                   0.8.1\r\n",
      "tornado                       6.1\r\n",
      "traitlets                     4.3.3\r\n",
      "trash-cli                     0.17.1.14\r\n",
      "typing-extensions             3.7.4.3\r\n",
      "ubuntu-drivers-common         0.0.0\r\n",
      "ufw                           0.35\r\n",
      "unattended-upgrades           0.1\r\n",
      "unity-scope-calculator        0.1\r\n",
      "unity-scope-chromiumbookmarks 0.1\r\n",
      "unity-scope-colourlovers      0.1\r\n",
      "unity-scope-devhelp           0.1\r\n",
      "unity-scope-firefoxbookmarks  0.1\r\n",
      "unity-scope-gdrive            0.7\r\n",
      "unity-scope-manpages          0.1\r\n",
      "unity-scope-openclipart       0.1\r\n",
      "unity-scope-texdoc            0.1\r\n",
      "unity-scope-tomboy            0.1\r\n",
      "unity-scope-virtualbox        0.1\r\n",
      "unity-scope-yelp              0.1\r\n",
      "unity-scope-zotero            0.1\r\n",
      "urllib3                       1.13.1\r\n",
      "usb-creator                   0.3.0\r\n",
      "virtualenv                    15.0.1\r\n",
      "wcwidth                       0.2.5\r\n",
      "Werkzeug                      0.15.5\r\n",
      "wheel                         0.29.0\r\n",
      "wrapt                         1.11.2\r\n",
      "xdiagnose                     3.8.4.1\r\n",
      "xkit                          0.0.0\r\n",
      "XlsxWriter                    0.7.3\r\n"
     ]
    }
   ],
   "source": [
    "!python -m pip list"
   ]
  },
  {
   "cell_type": "code",
   "execution_count": 2,
   "metadata": {},
   "outputs": [
    {
     "name": "stdout",
     "output_type": "stream",
     "text": [
      "cuda:0\n",
      "TITAN Xp\n"
     ]
    }
   ],
   "source": [
    "import matplotlib.pyplot as plt\n",
    "import numpy as np\n",
    "import pandas as pd\n",
    "from natsort import natsorted\n",
    "from sklearn import preprocessing\n",
    "import csv\n",
    "\n",
    "import torch\n",
    "import torch.nn as nn\n",
    "import torch.optim as optim\n",
    "import torchvision\n",
    "import torchvision.models as models\n",
    "import torchvision.transforms as transforms\n",
    "\n",
    "# import antialiased_cnns\n",
    "\n",
    "import time\n",
    "import os\n",
    "import PIL.Image as Image\n",
    "# from IPython.display import display\n",
    "\n",
    "device = torch.device(\"cuda:0\" if torch.cuda.is_available() else \"cpu\")\n",
    "print(device)\n",
    "print(torch.cuda.get_device_name(device))"
   ]
  },
  {
   "cell_type": "markdown",
   "metadata": {},
   "source": [
    "## Dataloader"
   ]
  },
  {
   "cell_type": "code",
   "execution_count": 3,
   "metadata": {},
   "outputs": [],
   "source": [
    "# Custom dataSet\n",
    "class CustomDataSet(torch.utils.data.Dataset):\n",
    "    def __init__(self, main_dir, labels, transform):\n",
    "        self.main_dir = main_dir\n",
    "        self.transform = transform\n",
    "        all_imgs = os.listdir(main_dir)\n",
    "        self.total_imgs = natsorted(all_imgs)\n",
    "        self.lbls = labels\n",
    "\n",
    "    def __len__(self):\n",
    "        return len(self.total_imgs)\n",
    "\n",
    "    def __getitem__(self, idx):\n",
    "        img_loc = os.path.join(self.main_dir, self.total_imgs[idx])\n",
    "        image = Image.open(img_loc).convert('RGB')\n",
    "        tensor_image = self.transform(image)\n",
    "        label = self.lbls[idx]\n",
    "        return tensor_image, label\n",
    "\n",
    "train_folder_path = r'data/train'\n",
    "test_folder_path = r'data/test'\n",
    "\n",
    "# encode string label to tensor\n",
    "train_label = pd.read_csv('training_labels.csv').sort_values(by=['id'])\n",
    "lbls = train_label['label'].values.tolist()\n",
    "le = preprocessing.LabelEncoder()\n",
    "targets = le.fit_transform(lbls)\n",
    "targets = torch.as_tensor(targets)\n",
    "\n",
    "# traning data transforms: resize to 400x400, flip, rotation, normalize\n",
    "train_tfms = transforms.Compose([transforms.Resize((400, 400)),\n",
    "                                 transforms.RandomHorizontalFlip(),\n",
    "                                 transforms.RandomRotation(15),\n",
    "                                 transforms.ToTensor(),\n",
    "                                 transforms.Normalize((0.5,), (0.5,))])\n",
    "\n",
    "dataset = CustomDataSet(train_folder_path, targets, transform=train_tfms)\n",
    "# split training set and validation set\n",
    "# trainset, validset = torch.utils.data.random_split(dataset, [10000, 1185])\n",
    "\n",
    "# train loader\n",
    "# trainloader = torch.utils.data.DataLoader(trainset, batch_size=16, shuffle=True, num_workers=0)\n",
    "trainloader = torch.utils.data.DataLoader(dataset, batch_size=16, shuffle=True, num_workers=0)\n",
    "\n",
    "# validation loader\n",
    "# validloader = torch.utils.data.DataLoader(validset, batch_size=16, shuffle=True, num_workers=0)"
   ]
  },
  {
   "cell_type": "markdown",
   "metadata": {},
   "source": [
    "## Training model function"
   ]
  },
  {
   "cell_type": "code",
   "execution_count": 4,
   "metadata": {},
   "outputs": [],
   "source": [
    "def train_model(model, criterion, optimizer, scheduler, n_epochs=5):\n",
    "    losses = []\n",
    "    accuracies = []\n",
    "    valid_accuracies = []\n",
    "    \n",
    "    # set the model to train mode initially\n",
    "    model.train()\n",
    "    for epoch in range(n_epochs):\n",
    "        since = time.time()\n",
    "        running_loss = 0.0\n",
    "        running_correct = 0.0\n",
    "        for i, data in enumerate(trainloader, 0):\n",
    "\n",
    "            # get the inputs and assign them to cuda\n",
    "            inputs, labels = data\n",
    "            inputs = inputs.to(device)\n",
    "            labels = labels.to(device)\n",
    "            optimizer.zero_grad()\n",
    "            \n",
    "            # forward + backward + optimize\n",
    "            outputs = model(inputs)\n",
    "            _, predicted = torch.max(outputs.data, 1)\n",
    "            loss = criterion(outputs, labels)\n",
    "            loss.backward()\n",
    "            optimizer.step()\n",
    "            \n",
    "            # calculate the loss/acc later\n",
    "            running_loss += loss.item()\n",
    "            running_correct += (labels==predicted).sum().item()\n",
    "        \n",
    "        epoch_duration = time.time()-since\n",
    "        epoch_loss = running_loss/len(trainloader)\n",
    "        # epoch_acc = 100/32*running_correct/len(trainloader)\n",
    "        epoch_acc = 100/16*running_correct/len(trainloader)\n",
    "        print('Epoch %s, duration: %d s, loss: %.4f, acc: %.4f' % (epoch+1, epoch_duration, epoch_loss, epoch_acc))\n",
    "        \n",
    "        losses.append(epoch_loss)\n",
    "        accuracies.append(epoch_acc)\n",
    "        \n",
    "        # switch the model to eval mode to evaluate on validation data\n",
    "        # model.eval()\n",
    "        # valid_acc = eval_model(model)\n",
    "        # valid_accuracies.append(valid_acc)\n",
    "        \n",
    "        # re-set the model to train mode after validating\n",
    "        # model.train()\n",
    "        # scheduler.step(valid_acc)\n",
    "        since = time.time()\n",
    "    print('Finished Training')\n",
    "    return model, losses, accuracies, valid_accuracies"
   ]
  },
  {
   "cell_type": "markdown",
   "metadata": {},
   "source": [
    "## Validation model"
   ]
  },
  {
   "cell_type": "code",
   "execution_count": 5,
   "metadata": {},
   "outputs": [],
   "source": [
    "def eval_model(model):\n",
    "    correct = 0.0\n",
    "    total = 0.0\n",
    "    \n",
    "    with torch.no_grad():\n",
    "        for i, data in enumerate(validloader, 0):\n",
    "            images, labels = data\n",
    "            images = images.to(device)\n",
    "            labels = labels.to(device)\n",
    "            \n",
    "            outputs = model_ft(images)\n",
    "            _, predicted = torch.max(outputs.data, 1)\n",
    "            \n",
    "            total += labels.size(0)\n",
    "            correct += (predicted == labels).sum().item()\n",
    "\n",
    "    valid_acc = 100.0 * correct / total\n",
    "    print('Accuracy of the network on the validation images: %d %%' % (valid_acc))\n",
    "    return valid_acc"
   ]
  },
  {
   "cell_type": "markdown",
   "metadata": {},
   "source": [
    "## Training"
   ]
  },
  {
   "cell_type": "code",
   "execution_count": 9,
   "metadata": {
    "scrolled": false
   },
   "outputs": [],
   "source": [
    "# model_ft = models.resnet34(pretrained=True)\n",
    "# model_ft = models.resnet50(pretrained=True)\n",
    "model_ft = models.resnet101(pretrained=True)\n",
    "# model_ft = antialiased_cnns.resnet50(pretrained=True) \n",
    "num_ftrs = model_ft.fc.in_features\n",
    "\n",
    "# replace the last fc layer with an untrained one\n",
    "model_ft.fc = nn.Linear(num_ftrs, 196)\n",
    "# load model\n",
    "# model_ft = torch.load('res101_15.pkl')\n",
    "model_ft = model_ft.to(device)\n",
    "\n",
    "criterion = nn.CrossEntropyLoss()\n",
    "optimizer = optim.SGD(model_ft.parameters(), lr=0.005, momentum=0.9)\n",
    "\n",
    "lrscheduler = optim.lr_scheduler.ReduceLROnPlateau(optimizer, mode='max', patience=3, threshold = 0.9)"
   ]
  },
  {
   "cell_type": "code",
   "execution_count": 10,
   "metadata": {
    "scrolled": true
   },
   "outputs": [
    {
     "name": "stdout",
     "output_type": "stream",
     "text": [
      "Epoch 1, duration: 409 s, loss: 3.4880, acc: 22.5089\n",
      "Epoch 2, duration: 410 s, loss: 1.3530, acc: 63.4554\n",
      "Epoch 3, duration: 410 s, loss: 0.7678, acc: 77.9911\n",
      "Epoch 4, duration: 411 s, loss: 0.5170, acc: 85.3393\n",
      "Epoch 5, duration: 410 s, loss: 0.3508, acc: 90.0357\n",
      "Epoch 6, duration: 409 s, loss: 0.2805, acc: 92.1339\n",
      "Epoch 7, duration: 410 s, loss: 0.2161, acc: 94.0089\n",
      "Epoch 8, duration: 411 s, loss: 0.1881, acc: 94.7411\n",
      "Epoch 9, duration: 410 s, loss: 0.1578, acc: 95.6161\n",
      "Epoch 10, duration: 410 s, loss: 0.1251, acc: 96.5893\n",
      "Epoch 11, duration: 410 s, loss: 0.1146, acc: 96.9107\n",
      "Epoch 12, duration: 410 s, loss: 0.1032, acc: 97.1875\n",
      "Epoch 13, duration: 410 s, loss: 0.1032, acc: 97.0804\n",
      "Epoch 14, duration: 411 s, loss: 0.0921, acc: 97.4375\n",
      "Epoch 15, duration: 411 s, loss: 0.0755, acc: 98.0446\n",
      "Finished Training\n"
     ]
    }
   ],
   "source": [
    "model_ft, training_losses, training_accs, valid_accs = train_model(model_ft, criterion, optimizer, lrscheduler, n_epochs=15)\n",
    "torch.save(model_ft, 'res101_15.pkl')"
   ]
  },
  {
   "cell_type": "code",
   "execution_count": null,
   "metadata": {},
   "outputs": [],
   "source": []
  },
  {
   "cell_type": "code",
   "execution_count": 15,
   "metadata": {},
   "outputs": [
    {
     "data": {
      "text/plain": [
       "Text(0.5, 1.0, 'Training acc')"
      ]
     },
     "execution_count": 15,
     "metadata": {},
     "output_type": "execute_result"
    },
    {
     "data": {
      "image/png": "[encoded data removed]",
      "text/plain": [
       "<Figure size 864x576 with 2 Axes>"
      ]
     },
     "metadata": {
      "needs_background": "light"
     },
     "output_type": "display_data"
    }
   ],
   "source": [
    "# plot the stats\n",
    "f, axarr = plt.subplots(1, 2, figsize = (12, 8))\n",
    "axarr[0].plot(training_losses)\n",
    "axarr[0].set_title(\"Training loss\")\n",
    "axarr[1].plot(training_accs)\n",
    "axarr[1].set_title(\"Training acc\")"
   ]
  },
  {
   "cell_type": "markdown",
   "metadata": {},
   "source": [
    "## Predict test set"
   ]
  },
  {
   "cell_type": "code",
   "execution_count": 8,
   "metadata": {},
   "outputs": [
    {
     "name": "stderr",
     "output_type": "stream",
     "text": [
      "/home/wayne/.local/lib/python3.6/site-packages/ipykernel_launcher.py:25: UserWarning: This overload of nonzero is deprecated:\n",
      "\tnonzero()\n",
      "Consider using one of the following signatures instead:\n",
      "\tnonzero(*, bool as_tuple) (Triggered internally at  /pytorch/torch/csrc/utils/python_arg_parser.cpp:882.)\n"
     ]
    }
   ],
   "source": [
    "model_ft.eval()\n",
    "\n",
    "# transforms for the input image\n",
    "loader = transforms.Compose([transforms.Resize((400, 400)),\n",
    "                             transforms.ToTensor(),\n",
    "                             transforms.Normalize((0.5,), (0.5,))])\n",
    "\n",
    "# open csv file\n",
    "csvFile = open('res101.csv', 'w', encoding='utf8', newline='')\n",
    "writer = csv.writer(csvFile)\n",
    "writer.writerow(['id', 'label'])\n",
    "img_test = os.listdir(test_folder_path)\n",
    "\n",
    "# predict test set and write in csv file\n",
    "for i in range(len(img_test)):\n",
    "    image = Image.open(os.path.join(test_folder_path, img_test[i]))\n",
    "    image = image.convert('RGB')\n",
    "    image = loader(image).float()\n",
    "    image = torch.autograd.Variable(image, requires_grad=True)\n",
    "    image = image.unsqueeze(0)\n",
    "    image = image.cuda()\n",
    "    output = model_ft(image)\n",
    "    conf, predicted = torch.max(output.data, 1)\n",
    "    index = (targets == predicted.item()).nonzero()\n",
    "    writer.writerow([img_test[i].split('.')[0], lbls[index[0][0]]])\n",
    "csvFile.close()"
   ]
  }
 ],
 "metadata": {
  "kernelspec": {
   "display_name": "python3_VRDL",
   "language": "python",
   "name": "python3_vrdl"
  },
  "language_info": {
   "codemirror_mode": {
    "name": "ipython",
    "version": 3
   },
   "file_extension": ".py",
   "mimetype": "text/x-python",
   "name": "python",
   "nbconvert_exporter": "python",
   "pygments_lexer": "ipython3",
   "version": "3.6.2"
  }
 },
 "nbformat": 4,
 "nbformat_minor": 2
}
